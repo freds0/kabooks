{
  "nbformat": 4,
  "nbformat_minor": 0,
  "metadata": {
    "colab": {
      "name": "spell checker.ipynb",
      "provenance": [],
      "collapsed_sections": []
    },
    "kernelspec": {
      "name": "python3",
      "display_name": "Python 3"
    },
    "language_info": {
      "name": "python"
    }
  },
  "cells": [
    {
      "cell_type": "code",
      "metadata": {
        "colab": {
          "base_uri": "https://localhost:8080/"
        },
        "id": "m97VtnPmmu43",
        "outputId": "6d7f7521-8a3e-487f-c3ad-0f490c5bbfa9"
      },
      "source": [
        "!apt-get install libhunspell-dev\n",
        "!pip install -q hunspell\n",
        "!pip install -q pyspellchecker"
      ],
      "execution_count": null,
      "outputs": [
        {
          "output_type": "stream",
          "text": [
            "Reading package lists... Done\n",
            "Building dependency tree       \n",
            "Reading state information... Done\n",
            "libhunspell-dev is already the newest version (1.6.2-1).\n",
            "0 upgraded, 0 newly installed, 0 to remove and 31 not upgraded.\n",
            "\u001b[K     |████████████████████████████████| 2.7MB 4.5MB/s \n",
            "\u001b[?25h"
          ],
          "name": "stdout"
        }
      ]
    },
    {
      "cell_type": "code",
      "metadata": {
        "colab": {
          "base_uri": "https://localhost:8080/"
        },
        "id": "pM3HHjtHm0i6",
        "outputId": "7a88a4b2-f627-420d-b6e9-c6bd233ee652"
      },
      "source": [
        "!gdown --id 1i_y-tCm_9G-u8F09DHf02tbMts8XgV4N\n",
        "!gdown --id 1keqnuqeH4q5F5SnuWwu7pskUr1TEvwhh"
      ],
      "execution_count": null,
      "outputs": [
        {
          "output_type": "stream",
          "text": [
            "Downloading...\n",
            "From: https://drive.google.com/uc?id=1i_y-tCm_9G-u8F09DHf02tbMts8XgV4N\n",
            "To: /content/pt_BR.aff\n",
            "100% 999k/999k [00:00<00:00, 62.2MB/s]\n",
            "Downloading...\n",
            "From: https://drive.google.com/uc?id=1keqnuqeH4q5F5SnuWwu7pskUr1TEvwhh\n",
            "To: /content/pt_BR.dic\n",
            "4.64MB [00:00, 43.7MB/s]\n"
          ],
          "name": "stdout"
        }
      ]
    },
    {
      "cell_type": "code",
      "metadata": {
        "id": "7ttYa10RnUIW"
      },
      "source": [
        "import hunspell\n",
        "hunspell_phenmes_dic = hunspell.HunSpell(\"pt_BR.dic\", \"pt_BR.aff\")\n"
      ],
      "execution_count": null,
      "outputs": []
    },
    {
      "cell_type": "code",
      "metadata": {
        "id": "Y46kBK6FnZ7U"
      },
      "source": [
        "def fix(text):\n",
        "  words=text.split(\" \")\n",
        "  result = []\n",
        "  for word in words:\n",
        "    sug = hunspell_phenmes_dic.suggest(word)[0]\n",
        "    result.append(sug)\n",
        "  return \" \".join(result)"
      ],
      "execution_count": null,
      "outputs": []
    },
    {
      "cell_type": "code",
      "metadata": {
        "colab": {
          "base_uri": "https://localhost:8080/",
          "height": 36
        },
        "id": "GjyPrh-znr3y",
        "outputId": "dcf7ed4e-8e6a-4377-e6d3-787c28a78636"
      },
      "source": [
        "fix(\"de-certo ele esta na pharmácia\")"
      ],
      "execution_count": null,
      "outputs": [
        {
          "output_type": "execute_result",
          "data": {
            "application/vnd.google.colaboratory.intrinsic+json": {
              "type": "string"
            },
            "text/plain": [
              "'decerto éle está na farmácia'"
            ]
          },
          "metadata": {
            "tags": []
          },
          "execution_count": 14
        }
      ]
    },
    {
      "cell_type": "code",
      "metadata": {
        "id": "Ii16s7TcpBQT"
      },
      "source": [
        "from spellchecker import SpellChecker\n",
        "\n",
        "spell = SpellChecker(language='pt')\n",
        "\n",
        "def fix2(text):\n",
        "  result = []\n",
        "\n",
        "  for word in text.split(\" \"):\n",
        "      # Get the one `most likely` answer\n",
        "      result.append(spell.correction(word))\n",
        "  return \" \".join(result)"
      ],
      "execution_count": null,
      "outputs": []
    },
    {
      "cell_type": "code",
      "metadata": {
        "colab": {
          "base_uri": "https://localhost:8080/",
          "height": 36
        },
        "id": "iiu2AKIFpOuv",
        "outputId": "1a478b4f-4619-4747-cdeb-1a5e06945e76"
      },
      "source": [
        "fix2(\"de-certo ele esta na pharmácia\")"
      ],
      "execution_count": null,
      "outputs": [
        {
          "output_type": "execute_result",
          "data": {
            "application/vnd.google.colaboratory.intrinsic+json": {
              "type": "string"
            },
            "text/plain": [
              "'decerto ele esta na farmácia'"
            ]
          },
          "metadata": {
            "tags": []
          },
          "execution_count": 24
        }
      ]
    }
  ]
}