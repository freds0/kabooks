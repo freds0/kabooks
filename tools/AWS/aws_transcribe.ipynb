{
 "cells": [
  {
   "cell_type": "code",
   "execution_count": 1,
   "metadata": {
    "colab": {
     "base_uri": "https://localhost:8080/",
     "height": 289
    },
    "id": "KH2ZxvYyaQ-I",
    "outputId": "e98e5c90-4278-483e-c87f-bfba03c60954"
   },
   "outputs": [
    {
     "name": "stdout",
     "output_type": "stream",
     "text": [
      "Collecting boto3\n",
      "\u001b[?25l  Downloading https://files.pythonhosted.org/packages/2f/08/f1ff665147a5d75b871bbe5ba76916f6490419c52a33e588385c4b69281b/boto3-1.15.18-py2.py3-none-any.whl (129kB)\n",
      "\u001b[K     |████████████████████████████████| 133kB 2.7MB/s \n",
      "\u001b[?25hCollecting botocore<1.19.0,>=1.18.18\n",
      "\u001b[?25l  Downloading https://files.pythonhosted.org/packages/2d/72/984ac8f33b5c8df5ff63f323a8724f65b4d0f8956968b942b77d35d3a1ef/botocore-1.18.18-py2.py3-none-any.whl (6.7MB)\n",
      "\u001b[K     |████████████████████████████████| 6.7MB 6.8MB/s \n",
      "\u001b[?25hCollecting jmespath<1.0.0,>=0.7.1\n",
      "  Downloading https://files.pythonhosted.org/packages/07/cb/5f001272b6faeb23c1c9e0acc04d48eaaf5c862c17709d20e3469c6e0139/jmespath-0.10.0-py2.py3-none-any.whl\n",
      "Collecting s3transfer<0.4.0,>=0.3.0\n",
      "\u001b[?25l  Downloading https://files.pythonhosted.org/packages/69/79/e6afb3d8b0b4e96cefbdc690f741d7dd24547ff1f94240c997a26fa908d3/s3transfer-0.3.3-py2.py3-none-any.whl (69kB)\n",
      "\u001b[K     |████████████████████████████████| 71kB 6.6MB/s \n",
      "\u001b[?25hRequirement already satisfied: python-dateutil<3.0.0,>=2.1 in /usr/local/lib/python3.6/dist-packages (from botocore<1.19.0,>=1.18.18->boto3) (2.8.1)\n",
      "Requirement already satisfied: urllib3<1.26,>=1.20; python_version != \"3.4\" in /usr/local/lib/python3.6/dist-packages (from botocore<1.19.0,>=1.18.18->boto3) (1.24.3)\n",
      "Requirement already satisfied: six>=1.5 in /usr/local/lib/python3.6/dist-packages (from python-dateutil<3.0.0,>=2.1->botocore<1.19.0,>=1.18.18->boto3) (1.15.0)\n",
      "Installing collected packages: jmespath, botocore, s3transfer, boto3\n",
      "Successfully installed boto3-1.15.18 botocore-1.18.18 jmespath-0.10.0 s3transfer-0.3.3\n"
     ]
    }
   ],
   "source": [
    "!pip install boto3"
   ]
  },
  {
   "cell_type": "code",
   "execution_count": 2,
   "metadata": {
    "id": "DuUJr2DyFYWT"
   },
   "outputs": [],
   "source": [
    "class config:\n",
    "    AWS_ACCESS_KEY_ID = ''\n",
    "    AWS_SECRET_ACCESS_KEY = ''\n",
    "    region_name ='sa-east-1'\n",
    "    bucket_name = 'amazon-transcribe'\n",
    "    audio_format = 'wav'\n",
    "    output_path = '/content'"
   ]
  },
  {
   "cell_type": "code",
   "execution_count": 22,
   "metadata": {
    "id": "HkalGSJgWun0"
   },
   "outputs": [],
   "source": [
    "from boto3 import client\n",
    "from time import sleep\n",
    "from urllib.request import urlopen\n",
    "from json import loads\n",
    "import pandas as pd\n",
    "from os.path import join\n",
    "from tqdm import tqdm\n",
    "\n",
    "def get_transcription_from_job(transcribe, job_name):\n",
    "    status = transcribe.get_transcription_job(TranscriptionJobName=job_name)\n",
    "    response = urlopen(status['TranscriptionJob']['Transcript']['TranscriptFileUri'])\n",
    "    data = loads(response.read())\n",
    "    text = data['results']['transcripts'][0]['transcript']\n",
    "\n",
    "    return text\n",
    "\n",
    "def get_bucket_names():\n",
    "    \"\"\"\n",
    "    Realisa a busca de diferentes buckets cujos nomes começam pelo nome\n",
    "    dado em config.bucket_name e os retorna.\n",
    "    \"\"\"\n",
    "\n",
    "    s3 = client('s3', \n",
    "                aws_access_key_id=config.AWS_ACCESS_KEY_ID, \n",
    "                aws_secret_access_key=config.AWS_SECRET_ACCESS_KEY, \n",
    "                region_name=config.region_name)\n",
    "\n",
    "    response = s3.list_buckets()\n",
    "\n",
    "    bucket_names = []\n",
    "\n",
    "    for idx, _ in enumerate(response):\n",
    "        bucket = response['Buckets'][idx]['Name']\n",
    "        if bucket.startswith(config.bucket_name):\n",
    "            bucket_names.append(response['Buckets'][idx]['Name'])\n",
    "\n",
    "    return bucket_names\n",
    "\n",
    "def get_audio_files_url(bucket_name=None):\n",
    "    \"\"\"\n",
    "    Realiza a busca das URLs dos arquivos em um determinado bucket.\n",
    "    Caso um nome de um determinado bucket não seja passado como parâmetro, \n",
    "    como padrão, o último bucket criado será analisado.\n",
    "    \"\"\"\n",
    "\n",
    "    URLS = []\n",
    "\n",
    "    s3 = client('s3', \n",
    "                aws_access_key_id=config.AWS_ACCESS_KEY_ID, \n",
    "                aws_secret_access_key=config.AWS_SECRET_ACCESS_KEY, \n",
    "                region_name=config.region_name)\n",
    "\n",
    "    if bucket_name is None:\n",
    "        response = s3.list_buckets()\n",
    "\n",
    "        bucket_name = response['Buckets'][-1]['Name']\n",
    "        \n",
    "        # print(f'  {bucket_name}')\n",
    "        # print(len(response))\n",
    "        # for idx, _ in enumerate(response):\n",
    "        #     print(response['Buckets'][idx]['Name'])\n",
    "\n",
    "\n",
    "    url_prefix = 'https://' + bucket_name + '.s3' + '-' + config.region_name + '.amazonaws.com'\n",
    "\n",
    "    for key in s3.list_objects(Bucket=bucket_name)['Contents']:\n",
    "        if key['Key'].endswith('.' + config.audio_format):\n",
    "            URLS.append(url_prefix + '/' + key['Key'])\n",
    "\n",
    "    # print(URLS)\n",
    "\n",
    "    return URLS\n",
    "\n",
    "\n",
    "def transcribe_audio_files(URLS):\n",
    "    \"\"\"\n",
    "    Realisa a transcrição dos áudios.\n",
    "    Tem como parâmetro as URLs dos áudios em um bucket.\n",
    "    \"\"\"\n",
    "\n",
    "    file_names = []\n",
    "\n",
    "    transcribed_texts = []\n",
    "\n",
    "    transcribe = client('transcribe', \n",
    "                        aws_access_key_id=config.AWS_ACCESS_KEY_ID, \n",
    "                        aws_secret_access_key=config.AWS_SECRET_ACCESS_KEY, \n",
    "                        region_name=config.region_name)\n",
    "\n",
    "    for counter, url in enumerate(tqdm(URLS)):\n",
    "        file_name = str(url).split('/')[-1]\n",
    "        file_names.append(file_name)\n",
    "\n",
    "        # print(f\"Transcrevendo {file_name}... \")\n",
    "        # Diferentes nomes para cada iteração\n",
    "        job_name = file_name.split('.')[0]\n",
    "    \n",
    "        try:\n",
    "            transcribe.start_transcription_job(TranscriptionJobName=job_name, \n",
    "                                            Media={'MediaFileUri': url}, \n",
    "                                            MediaFormat=config.audio_format, \n",
    "                                            LanguageCode='pt-BR')\n",
    "        except transcribe.exceptions.ConflictException:\n",
    "            print(f\"\\tO arquivo '{file_name}' já foi transcrito, indo para o próximo arquivo...\")\n",
    "            text = get_transcription_from_job(transcribe, job_name)\n",
    "            transcribed_texts.append(text)\n",
    "            continue\n",
    "\n",
    "        while True:\n",
    "            status = transcribe.get_transcription_job(TranscriptionJobName=job_name)\n",
    "            if status['TranscriptionJob']['TranscriptionJobStatus'] in ['COMPLETED', 'FAILED']:\n",
    "                break\n",
    "            sleep(2)\n",
    "            \n",
    "        # print(f\"{status['TranscriptionJob']['TranscriptionJobStatus']}\\n\")\n",
    "\n",
    "        if status['TranscriptionJob']['TranscriptionJobStatus'] == 'COMPLETED':\n",
    "            response = urlopen(status['TranscriptionJob']['Transcript']['TranscriptFileUri'])\n",
    "            data = loads(response.read())\n",
    "            text = data['results']['transcripts'][0]['transcript']\n",
    "            transcribed_texts.append(text)\n",
    "\n",
    "    return file_names, transcribed_texts\n",
    "\n",
    "def get_completed_job_names():\n",
    "\n",
    "    transcribe = client('transcribe', \n",
    "                        aws_access_key_id=config.AWS_ACCESS_KEY_ID, \n",
    "                        aws_secret_access_key=config.AWS_SECRET_ACCESS_KEY, \n",
    "                        region_name=config.region_name)\n",
    "    \n",
    "    job_names = []\n",
    "    \n",
    "    response = transcribe.list_transcription_jobs(Status='COMPLETED', MaxResults=100)\n",
    "    response_more = response\n",
    "\n",
    "    # Do while\n",
    "    while True:\n",
    "        for job in response_more['TranscriptionJobSummaries']:\n",
    "            job_names.append(job['TranscriptionJobName'])\n",
    "        \n",
    "        if 'NextToken' not in response_more.keys():\n",
    "            break\n",
    "\n",
    "        response_more = transcribe.list_transcription_jobs(Status='COMPLETED', NextToken=response_more['NextToken'], MaxResults=100)\n",
    "\n",
    "    return job_names\n",
    "\n",
    "\n",
    "def delete_completed_jobs(completed_job_names):\n",
    "    \"\"\"\n",
    "    Deleta os 'Transcription jobs' completos.\n",
    "    Essa função se faz necessária caso se use o mesmo \n",
    "    'job_name' (na classe config) para mais de uma execução do script.\n",
    "\n",
    "    Os 'Transcription jobs' devem ser únicos.\n",
    "    \"\"\"\n",
    "\n",
    "    transcribe = client('transcribe', \n",
    "                        aws_access_key_id=config.AWS_ACCESS_KEY_ID, \n",
    "                        aws_secret_access_key=config.AWS_SECRET_ACCESS_KEY, \n",
    "                        region_name=config.region_name)\n",
    "    \n",
    "    for job_name in tqdm(completed_job_names):\n",
    "        transcribe.delete_transcription_job(TranscriptionJobName=job_name)\n",
    "\n",
    "def make_matadata(file_names, transcribed_texts):\n",
    "    df = pd.DataFrame()\n",
    "\n",
    "    for file_name, text in zip(file_names, transcribed_texts):\n",
    "        df = df.append({'A': file_name, 'B' : text}, ignore_index=True)\n",
    "\n",
    "    df.to_csv(join(config.output_path, 'transcribed_text.csv'), sep='|', index=False, header=False, quotechar=\"'\")\n",
    "\n",
    "def run_transcribe():\n",
    "\n",
    "    # completed_jobs = get_completed_job_names()\n",
    "    # print(completed_jobs)\n",
    "\n",
    "    bucket_names = get_bucket_names()\n",
    "\n",
    "    for idx, bucket in enumerate(bucket_names):\n",
    "        print(\"\\nAcessando bucket {0} -> {1} de {2}\".format(bucket, idx+1, len(bucket_names)))\n",
    "\n",
    "        URLS = get_audio_files_url(bucket)\n",
    "        file_names, transcribed_texts = transcribe_audio_files(URLS)\n",
    "        make_matadata(file_names, transcribed_texts)"
   ]
  },
  {
   "cell_type": "code",
   "execution_count": 24,
   "metadata": {
    "colab": {
     "base_uri": "https://localhost:8080/",
     "height": 85
    },
    "id": "7sL4wWD66KGz",
    "outputId": "19f6ef24-3e8b-42eb-ced7-e4da49ea7020"
   },
   "outputs": [
    {
     "name": "stderr",
     "output_type": "stream",
     "text": [
      "\n",
      "0it [00:00, ?it/s]"
     ]
    },
    {
     "name": "stdout",
     "output_type": "stream",
     "text": [
      "[]\n",
      "[]\n"
     ]
    },
    {
     "name": "stderr",
     "output_type": "stream",
     "text": [
      "\n"
     ]
    }
   ],
   "source": [
    "run_transcribe()"
   ]
  },
  {
   "cell_type": "code",
   "execution_count": null,
   "metadata": {
    "id": "KYPZLDovCpjN"
   },
   "outputs": [],
   "source": [
    "from google.colab import files\n",
    "files.download('transcribed_text.csv') "
   ]
  },
  {
   "cell_type": "code",
   "execution_count": null,
   "metadata": {
    "id": "1YR2jSYnqTGx"
   },
   "outputs": [],
   "source": [
    "import logging\n",
    "from boto3 import client\n",
    "from botocore.exceptions import ClientError\n",
    "\n",
    "import os\n",
    "import sys\n",
    "import threading\n",
    "\n",
    "import ntpath\n",
    "\n",
    "class ProgressPercentage(object):\n",
    "\n",
    "    def __init__(self, filename):\n",
    "        self._filename = filename\n",
    "        self._size = float(os.path.getsize(filename))\n",
    "        self._seen_so_far = 0\n",
    "        self._lock = threading.Lock()\n",
    "\n",
    "    def __call__(self, bytes_amount):\n",
    "        # To simplify, assume this is hooked up to a single filename\n",
    "        with self._lock:\n",
    "            self._seen_so_far += bytes_amount\n",
    "            percentage = (self._seen_so_far / self._size) * 100\n",
    "            sys.stdout.write(\n",
    "                \"\\r%s  %s / %s  (%.2f%%)\" % (\n",
    "                    self._filename, self._seen_so_far, self._size,\n",
    "                    percentage))\n",
    "            sys.stdout.flush()\n",
    "\n",
    "def upload_file(file_path, bucket, object_name=None):\n",
    "\n",
    "    if object_name is None:\n",
    "        object_name = ntpath.basename(file_path)\n",
    "\n",
    "    # Upload the file\n",
    "    s3 = client('s3', \n",
    "                aws_access_key_id=config.AWS_ACCESS_KEY_ID, \n",
    "                aws_secret_access_key=config.AWS_SECRET_ACCESS_KEY, \n",
    "                region_name=config.region_name)\n",
    "    try:\n",
    "        response = s3.upload_file(file_path, \n",
    "                                  bucket, \n",
    "                                  object_name,\n",
    "                                  Callback=ProgressPercentage(file_path))\n",
    "    except ClientError as e:\n",
    "        logging.error(e)\n",
    "        return False\n",
    "    return True\n",
    "\n",
    "def upload_multiple_files(files_path, bucket_name):\n",
    "    \"\"\"\n",
    "    Realiza o upload de multiplos arquivos.\n",
    "    \n",
    "    ---\n",
    "\n",
    "    files_path se refere ao caminho até o diretório onde se encontram\n",
    "    os arquivos de áudio.\n",
    "\n",
    "    bucket_name se refere ao nome de um bucket especifico, onde será feita o \n",
    "    upload dos arquivos.\n",
    "    \"\"\"\n",
    "\n",
    "    files = os.listdir(files_path)\n",
    "\n",
    "    for file in files:\n",
    "        upload_file(os.path.join(files_path, file), bucket_name)\n",
    "\n",
    "def create_bucket(bucket_name, region=None):\n",
    "    \"\"\"\n",
    "    Cria um bucket com permissões privadas.\n",
    "\n",
    "    ---\n",
    "\n",
    "    bucket_name é o nome do bucket a ser criado.\n",
    "\n",
    "    region é o código de região (region_name), se não for explicitado, como padrão,\n",
    "    a região 'us-west-2' (US West (Oregon)) será utilizada.\n",
    "    \"\"\"\n",
    "\n",
    "    try:\n",
    "        if region is None:\n",
    "            s3 = client('s3', \n",
    "                        aws_access_key_id=config.AWS_ACCESS_KEY_ID, \n",
    "                        aws_secret_access_key=config.AWS_SECRET_ACCESS_KEY)\n",
    "            s3.create_bucket(Bucket=bucket_name, ACL='private')\n",
    "\n",
    "\n",
    "        else:\n",
    "            s3 = client('s3', \n",
    "                        aws_access_key_id=config.AWS_ACCESS_KEY_ID, \n",
    "                        aws_secret_access_key=config.AWS_SECRET_ACCESS_KEY, \n",
    "                        region_name=region)\n",
    "            location = {'LocationConstraint': region}\n",
    "            s3.create_bucket(Bucket=bucket_name,\n",
    "                            CreateBucketConfiguration=location,\n",
    "                            ACL='private')\n",
    "    \n",
    "        response_public = s3.put_public_access_block(\n",
    "            Bucket=bucket_name,\n",
    "            PublicAccessBlockConfiguration={\n",
    "                'BlockPublicAcls': True,\n",
    "                'IgnorePublicAcls': True,\n",
    "                'BlockPublicPolicy': True,\n",
    "                'RestrictPublicBuckets': True\n",
    "            },\n",
    "        )\n",
    "\n",
    "    except ClientError as e:\n",
    "        logging.error(e)\n",
    "        return False\n",
    "    return True"
   ]
  },
  {
   "cell_type": "markdown",
   "metadata": {
    "id": "7T-tRyzPB6Dq"
   },
   "source": [
    "# Exemplos de uso"
   ]
  },
  {
   "cell_type": "code",
   "execution_count": null,
   "metadata": {
    "colab": {
     "base_uri": "https://localhost:8080/",
     "height": 34
    },
    "id": "gC_FPhosrkGu",
    "outputId": "6942a7fd-c613-4c2b-dc9d-6f7b7eb55149"
   },
   "outputs": [
    {
     "data": {
      "text/plain": [
       "True"
      ]
     },
     "execution_count": 37,
     "metadata": {
      "tags": []
     },
     "output_type": "execute_result"
    }
   ],
   "source": [
    "create_bucket('cbtest0', config.region_name)"
   ]
  },
  {
   "cell_type": "code",
   "execution_count": null,
   "metadata": {
    "colab": {
     "base_uri": "https://localhost:8080/",
     "height": 34
    },
    "id": "-aO_Rbslxjbm",
    "outputId": "4f793dc5-1901-4da6-82a2-492659411863"
   },
   "outputs": [
    {
     "name": "stdout",
     "output_type": "stream",
     "text": [
      "/content/a/015.wav  62044 / 62044.0  (100.00%)"
     ]
    }
   ],
   "source": [
    "upload_multiple_files('/content/audio', 'cbtest0')"
   ]
  }
 ],
 "metadata": {
  "colab": {
   "collapsed_sections": [],
   "name": "aws_transcribe_2_1.ipynb",
   "provenance": [],
   "toc_visible": true
  },
  "kernelspec": {
   "display_name": "Python 3",
   "language": "python",
   "name": "python3"
  },
  "language_info": {
   "codemirror_mode": {
    "name": "ipython",
    "version": 3
   },
   "file_extension": ".py",
   "mimetype": "text/x-python",
   "name": "python",
   "nbconvert_exporter": "python",
   "pygments_lexer": "ipython3",
   "version": "3.7.10"
  }
 },
 "nbformat": 4,
 "nbformat_minor": 1
}
